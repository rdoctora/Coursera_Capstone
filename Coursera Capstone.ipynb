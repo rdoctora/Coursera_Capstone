{
    "cells": [
        {
            "cell_type": "markdown",
            "metadata": {
                "collapsed": true
            },
            "source": "# Opening A New Sushi Chain in San Francisco, California, USA\n## The Battle of the Neighborhoods - Final\n### Coursera Applied Data Science Capstone by IBM"
        },
        {
            "cell_type": "code",
            "execution_count": 21,
            "metadata": {},
            "outputs": [
                {
                    "name": "stdout",
                    "output_type": "stream",
                    "text": "Hello Capstone Project Course!\n"
                }
            ],
            "source": "print(\"Hello Capstone Project Course!\")"
        },
        {
            "cell_type": "markdown",
            "metadata": {},
            "source": "## Table of contents\n* [Business Problem Introduction](#businessproblemintroduction)\n* [Data](#data)\n* [Methodology](#methodology)\n* [Analysis](#analysis)\n* [Results and Discussion](#resultsanddiscussion)\n* [Conclusion](#conclusion)"
        },
        {
            "cell_type": "markdown",
            "metadata": {},
            "source": "## Business Problem Introduction <a name=\"businessproblemintroduction\"></a>"
        },
        {
            "cell_type": "markdown",
            "metadata": {},
            "source": "In this project we will try to find a suitable location for a Japanese chain who will be opening a new brick and mortar restaurant in a new geographic market. The key stakeholder will be the Director of Operations who is interested in opening a *sushi restaurant* in *San Francisco, California, USA*. \n\nThe Director has specified two criteria: first, as San Francisco is an international destination with many eateries, the Director has specifically requested a location *not crowded with competitor cuisines*. Second, since the raw materials and ingredients for maintaining a restaurant of the chain's calibre are expensive, the Director would also prefer a city location *with low theft rates*. Since the chain maintains an active Loss Prevention program with specialized equipment, a location with low crime theft over the past 5 years is acceptable.\n\nWe will be analyzing locations in San Francisco as well as crime data to support the restaurant chain's initiative. We will then present pros and cons of areas selected and provide recommendations to the stakeholders."
        },
        {
            "cell_type": "markdown",
            "metadata": {},
            "source": "## Data <a name=\"data\"></a>"
        },
        {
            "cell_type": "markdown",
            "metadata": {},
            "source": "Based on the requirements defined in the problem, factors that will influence the stakeholder's decision are:\n* number of competitor restaurants in a location\n* crime data for a location\n\nFor the first criteria, we plan to use data from Foursquare to generate a list of eateries in San Francisco by location. For the second criteria, we will use the public San Francisco crimes data to investigate theft and robberies by location to present a proposal for site selection.\n\nWe decided to use key district parameters to define San Francisco locations since San Francisco is no larger than approximately 7 miles by 7 miles. Data sources initially planned for extraction and generation include:\n* number of eateries and their type by San Francisco location will be obtained using **Foursquare API**\n* theft locations of the city will be used and overlayed onto a San Franciso **Folium map** for analysis and analysis"
        },
        {
            "cell_type": "markdown",
            "metadata": {},
            "source": "## Methodology<a name=\"methodology\"></a>"
        },
        {
            "cell_type": "markdown",
            "metadata": {},
            "source": "At a high level, we will employ the following methodology for analysis:\n* Import all data libraries into Python notebook\n* Extract 2016 San Francisco Crimes data using the PdDistrict as basis for San Francisco Distircts\n* Data wrangle police incidents file to select only Burglary, Larceny/Theft, and Robberies\n* Use agglomerative approach to aggregate theft incidents by District\n* Using the Districts, determine latitude and longitude geolocator data for each \n* Use Foursquare API to get all venues in defined Districts\n* Data wrangle venues data to select only restaurants in each District\n* Aggregate restaurants by District\n* Create a map to overlay theft incidents data\n* Merge theft incidents data with restaurants data and sort by theft incidents"
        },
        {
            "cell_type": "markdown",
            "metadata": {},
            "source": "## Analysis<a name=\"analysis\"></a>"
        },
        {
            "cell_type": "code",
            "execution_count": 1,
            "metadata": {},
            "outputs": [
                {
                    "name": "stdout",
                    "output_type": "stream",
                    "text": "Solving environment: done\n\n## Package Plan ##\n\n  environment location: /opt/conda/envs/Python36\n\n  added / updated specs: \n    - folium=0.5.0\n\n\nThe following packages will be downloaded:\n\n    package                    |            build\n    ---------------------------|-----------------\n    branca-0.4.1               |             py_0          26 KB  conda-forge\n    altair-4.1.0               |             py_1         614 KB  conda-forge\n    folium-0.5.0               |             py_0          45 KB  conda-forge\n    certifi-2020.6.20          |   py36h9f0ad1d_0         151 KB  conda-forge\n    openssl-1.1.1g             |       h516909a_1         2.1 MB  conda-forge\n    vincent-0.4.4              |             py_1          28 KB  conda-forge\n    python_abi-3.6             |          1_cp36m           4 KB  conda-forge\n    ca-certificates-2020.6.20  |       hecda079_0         145 KB  conda-forge\n    ------------------------------------------------------------\n                                           Total:         3.1 MB\n\nThe following NEW packages will be INSTALLED:\n\n    altair:          4.1.0-py_1        conda-forge\n    branca:          0.4.1-py_0        conda-forge\n    folium:          0.5.0-py_0        conda-forge\n    python_abi:      3.6-1_cp36m       conda-forge\n    vincent:         0.4.4-py_1        conda-forge\n\nThe following packages will be UPDATED:\n\n    certifi:         2020.6.20-py36_0              --> 2020.6.20-py36h9f0ad1d_0 conda-forge\n    openssl:         1.1.1g-h7b6447c_0             --> 1.1.1g-h516909a_1        conda-forge\n\nThe following packages will be DOWNGRADED:\n\n    ca-certificates: 2020.6.24-0                   --> 2020.6.20-hecda079_0     conda-forge\n\n\nDownloading and Extracting Packages\nbranca-0.4.1         | 26 KB     | ##################################### | 100% \naltair-4.1.0         | 614 KB    | ##################################### | 100% \nfolium-0.5.0         | 45 KB     | ##################################### | 100% \ncertifi-2020.6.20    | 151 KB    | ##################################### | 100% \nopenssl-1.1.1g       | 2.1 MB    | ##################################### | 100% \nvincent-0.4.4        | 28 KB     | ##################################### | 100% \npython_abi-3.6       | 4 KB      | ##################################### | 100% \nca-certificates-2020 | 145 KB    | ##################################### | 100% \nPreparing transaction: done\nVerifying transaction: done\nExecuting transaction: done\nSolving environment: done\n\n## Package Plan ##\n\n  environment location: /opt/conda/envs/Python36\n\n  added / updated specs: \n    - geopy\n\n\nThe following packages will be downloaded:\n\n    package                    |            build\n    ---------------------------|-----------------\n    geographiclib-1.50         |             py_0          34 KB  conda-forge\n    geopy-2.0.0                |     pyh9f0ad1d_0          63 KB  conda-forge\n    ------------------------------------------------------------\n                                           Total:          97 KB\n\nThe following NEW packages will be INSTALLED:\n\n    geographiclib: 1.50-py_0          conda-forge\n    geopy:         2.0.0-pyh9f0ad1d_0 conda-forge\n\n\nDownloading and Extracting Packages\ngeographiclib-1.50   | 34 KB     | ##################################### | 100% \ngeopy-2.0.0          | 63 KB     | ##################################### | 100% \nPreparing transaction: done\nVerifying transaction: done\nExecuting transaction: done\nLibraries imported.\n"
                }
            ],
            "source": "import requests\nimport urllib.request\nimport pandas as pd\npd.set_option('display.max_columns', None)\npd.set_option('display.max_rows', None)\nimport numpy as np\nimport csv\nfrom bs4 import BeautifulSoup\n!conda install -c conda-forge folium=0.5.0 --yes \nimport folium # map rendering library\nfrom folium import plugins\nimport json # library to handle JSON files\n!conda install -c conda-forge geopy --yes\nfrom geopy.geocoders import Nominatim # convert an address into latitude and longitude values\nimport requests # library to handle requests\nfrom pandas.io.json import json_normalize # tranform JSON file into a pandas dataframe\n# Matplotlib and associated plotting modules\nimport matplotlib.cm as cm\nimport matplotlib.colors as colors\nprint('Libraries imported.')"
        },
        {
            "cell_type": "code",
            "execution_count": 2,
            "metadata": {},
            "outputs": [],
            "source": "#Foursquare info\nCLIENT_ID = '1H41W44OYMI2XZ5Y13TAWB0YDLCMITZJSXCLELDNFRGLB23G' # your Foursquare ID\nCLIENT_SECRET = 'TMYVWORZW4OEW1NCQUQWYNX2DKF2X2D340ILPIZLKCGO5DVF' # your Foursquare Secret\nVERSION = '20180605' # Foursquare API version\n"
        },
        {
            "cell_type": "markdown",
            "metadata": {},
            "source": "### Get PD crimes data"
        },
        {
            "cell_type": "code",
            "execution_count": 3,
            "metadata": {},
            "outputs": [
                {
                    "data": {
                        "text/html": "<div>\n<style scoped>\n    .dataframe tbody tr th:only-of-type {\n        vertical-align: middle;\n    }\n\n    .dataframe tbody tr th {\n        vertical-align: top;\n    }\n\n    .dataframe thead th {\n        text-align: right;\n    }\n</style>\n<table border=\"1\" class=\"dataframe\">\n  <thead>\n    <tr style=\"text-align: right;\">\n      <th></th>\n      <th>Category</th>\n      <th>PdDistrict</th>\n      <th>X</th>\n      <th>Y</th>\n      <th>Location</th>\n    </tr>\n    <tr>\n      <th>IncidntNum</th>\n      <th></th>\n      <th></th>\n      <th></th>\n      <th></th>\n      <th></th>\n    </tr>\n  </thead>\n  <tbody>\n    <tr>\n      <th>120058272</th>\n      <td>WEAPON LAWS</td>\n      <td>SOUTHERN</td>\n      <td>-122.403405</td>\n      <td>37.775421</td>\n      <td>(37.775420706711, -122.403404791479)</td>\n    </tr>\n    <tr>\n      <th>120058272</th>\n      <td>WEAPON LAWS</td>\n      <td>SOUTHERN</td>\n      <td>-122.403405</td>\n      <td>37.775421</td>\n      <td>(37.775420706711, -122.403404791479)</td>\n    </tr>\n    <tr>\n      <th>141059263</th>\n      <td>WARRANTS</td>\n      <td>BAYVIEW</td>\n      <td>-122.388856</td>\n      <td>37.729981</td>\n      <td>(37.7299809672996, -122.388856204292)</td>\n    </tr>\n    <tr>\n      <th>160013662</th>\n      <td>NON-CRIMINAL</td>\n      <td>TENDERLOIN</td>\n      <td>-122.412971</td>\n      <td>37.785788</td>\n      <td>(37.7857883766888, -122.412970537591)</td>\n    </tr>\n    <tr>\n      <th>160002740</th>\n      <td>NON-CRIMINAL</td>\n      <td>MISSION</td>\n      <td>-122.419672</td>\n      <td>37.765050</td>\n      <td>(37.7650501214668, -122.419671780296)</td>\n    </tr>\n  </tbody>\n</table>\n</div>",
                        "text/plain": "                Category  PdDistrict           X          Y  \\\nIncidntNum                                                    \n120058272    WEAPON LAWS    SOUTHERN -122.403405  37.775421   \n120058272    WEAPON LAWS    SOUTHERN -122.403405  37.775421   \n141059263       WARRANTS     BAYVIEW -122.388856  37.729981   \n160013662   NON-CRIMINAL  TENDERLOIN -122.412971  37.785788   \n160002740   NON-CRIMINAL     MISSION -122.419672  37.765050   \n\n                                         Location  \nIncidntNum                                         \n120058272    (37.775420706711, -122.403404791479)  \n120058272    (37.775420706711, -122.403404791479)  \n141059263   (37.7299809672996, -122.388856204292)  \n160013662   (37.7857883766888, -122.412970537591)  \n160002740   (37.7650501214668, -122.419671780296)  "
                    },
                    "execution_count": 3,
                    "metadata": {},
                    "output_type": "execute_result"
                }
            ],
            "source": "#get PD districts from crimes data\nurlDistricts='https://s3-api.us-geo.objectstorage.softlayer.net/cf-courses-data/CognitiveClass/DV0101EN/labs/Data_Files/Police_Department_Incidents_-_Previous_Year__2016_.csv'\ndf_incidents = pd.read_csv(urlDistricts,\n                           index_col=0)\ndf_incidents.drop(['Descript', 'DayOfWeek', 'Date', 'Time', 'Resolution', 'Address', 'PdId'], axis=1, inplace=True)\ndf_incidents.head()\n"
        },
        {
            "cell_type": "code",
            "execution_count": 4,
            "metadata": {},
            "outputs": [
                {
                    "data": {
                        "text/html": "<div>\n<style scoped>\n    .dataframe tbody tr th:only-of-type {\n        vertical-align: middle;\n    }\n\n    .dataframe tbody tr th {\n        vertical-align: top;\n    }\n\n    .dataframe thead th {\n        text-align: right;\n    }\n</style>\n<table border=\"1\" class=\"dataframe\">\n  <thead>\n    <tr style=\"text-align: right;\">\n      <th></th>\n      <th>Category</th>\n      <th>PdDistrict</th>\n      <th>X</th>\n      <th>Y</th>\n      <th>Location</th>\n    </tr>\n  </thead>\n  <tbody>\n    <tr>\n      <th>0</th>\n      <td>LARCENY/THEFT</td>\n      <td>TARAVAL</td>\n      <td>-122.477377</td>\n      <td>37.764478</td>\n      <td>(37.7644781578695, -122.477376524003)</td>\n    </tr>\n    <tr>\n      <th>1</th>\n      <td>BURGLARY</td>\n      <td>CENTRAL</td>\n      <td>-122.400909</td>\n      <td>37.791643</td>\n      <td>(37.791642982384, -122.40090869889)</td>\n    </tr>\n    <tr>\n      <th>2</th>\n      <td>ROBBERY</td>\n      <td>MISSION</td>\n      <td>-122.406870</td>\n      <td>37.757290</td>\n      <td>(37.7572895904578, -122.406870402082)</td>\n    </tr>\n    <tr>\n      <th>3</th>\n      <td>LARCENY/THEFT</td>\n      <td>SOUTHERN</td>\n      <td>-122.408421</td>\n      <td>37.783570</td>\n      <td>(37.7835699386918, -122.408421116922)</td>\n    </tr>\n    <tr>\n      <th>4</th>\n      <td>BURGLARY</td>\n      <td>NORTHERN</td>\n      <td>-122.419203</td>\n      <td>37.787438</td>\n      <td>(37.7874378309112, -122.419203004268)</td>\n    </tr>\n  </tbody>\n</table>\n</div>",
                        "text/plain": "        Category PdDistrict           X          Y  \\\n0  LARCENY/THEFT    TARAVAL -122.477377  37.764478   \n1       BURGLARY    CENTRAL -122.400909  37.791643   \n2        ROBBERY    MISSION -122.406870  37.757290   \n3  LARCENY/THEFT   SOUTHERN -122.408421  37.783570   \n4       BURGLARY   NORTHERN -122.419203  37.787438   \n\n                                Location  \n0  (37.7644781578695, -122.477376524003)  \n1    (37.791642982384, -122.40090869889)  \n2  (37.7572895904578, -122.406870402082)  \n3  (37.7835699386918, -122.408421116922)  \n4  (37.7874378309112, -122.419203004268)  "
                    },
                    "execution_count": 4,
                    "metadata": {},
                    "output_type": "execute_result"
                }
            ],
            "source": "#get theft incidents only\ndf_stealing = df_incidents.loc[df_incidents['Category'].isin([\"BURGLARY\", \"LARCENY/THEFT\",\"ROBBERY\"])].reset_index(drop=True)\n#drop any NaN districts\ndf_stealing = df_stealing[df_stealing['PdDistrict'].notna()]\ndf_stealing.head()"
        },
        {
            "cell_type": "code",
            "execution_count": 5,
            "metadata": {},
            "outputs": [
                {
                    "data": {
                        "text/html": "<div>\n<style scoped>\n    .dataframe tbody tr th:only-of-type {\n        vertical-align: middle;\n    }\n\n    .dataframe tbody tr th {\n        vertical-align: top;\n    }\n\n    .dataframe thead th {\n        text-align: right;\n    }\n</style>\n<table border=\"1\" class=\"dataframe\">\n  <thead>\n    <tr style=\"text-align: right;\">\n      <th></th>\n      <th>PdDistrict</th>\n      <th>Total Theft</th>\n    </tr>\n  </thead>\n  <tbody>\n    <tr>\n      <th>0</th>\n      <td>BAYVIEW</td>\n      <td>3192</td>\n    </tr>\n    <tr>\n      <th>1</th>\n      <td>CENTRAL</td>\n      <td>7780</td>\n    </tr>\n    <tr>\n      <th>2</th>\n      <td>INGLESIDE</td>\n      <td>2628</td>\n    </tr>\n    <tr>\n      <th>3</th>\n      <td>MISSION</td>\n      <td>4661</td>\n    </tr>\n    <tr>\n      <th>4</th>\n      <td>NORTHERN</td>\n      <td>8410</td>\n    </tr>\n    <tr>\n      <th>5</th>\n      <td>PARK</td>\n      <td>2758</td>\n    </tr>\n    <tr>\n      <th>6</th>\n      <td>RICHMOND</td>\n      <td>3629</td>\n    </tr>\n    <tr>\n      <th>7</th>\n      <td>SOUTHERN</td>\n      <td>10633</td>\n    </tr>\n    <tr>\n      <th>8</th>\n      <td>TARAVAL</td>\n      <td>3480</td>\n    </tr>\n    <tr>\n      <th>9</th>\n      <td>TENDERLOIN</td>\n      <td>2338</td>\n    </tr>\n  </tbody>\n</table>\n</div>",
                        "text/plain": "   PdDistrict  Total Theft\n0     BAYVIEW         3192\n1     CENTRAL         7780\n2   INGLESIDE         2628\n3     MISSION         4661\n4    NORTHERN         8410\n5        PARK         2758\n6    RICHMOND         3629\n7    SOUTHERN        10633\n8     TARAVAL         3480\n9  TENDERLOIN         2338"
                    },
                    "execution_count": 5,
                    "metadata": {},
                    "output_type": "execute_result"
                }
            ],
            "source": "#theft by district\ndf_district_theft = df_stealing.groupby(['PdDistrict']).count()\n\n#drop columns not needed here\ndf_district_theft.drop(['X', 'Y', 'Location'], axis=1, inplace=True)\ndf_district_theft.columns = ['Total Theft']\ndf_district_theft = df_district_theft.reset_index()\n\ndf_district_theft"
        },
        {
            "cell_type": "markdown",
            "metadata": {},
            "source": "### Here we get all the geolocation data for each of the PD districts"
        },
        {
            "cell_type": "code",
            "execution_count": 6,
            "metadata": {},
            "outputs": [
                {
                    "name": "stdout",
                    "output_type": "stream",
                    "text": "The geograpical coordinate of Bayview, San Francisco, California are 37.7288889, -122.3925.\n"
                }
            ],
            "source": "#geo locator for Bayview, San Francisco, California\nbayview_address = 'Bayview, San Francisco, California'\n\ngeolocator = Nominatim(user_agent=\"bayview_explorer\")\nlocation = geolocator.geocode(bayview_address)\nbayview_latitude = location.latitude\nbayview_longitude = location.longitude\nprint('The geograpical coordinate of Bayview, San Francisco, California are {}, {}.'.format(bayview_latitude, bayview_longitude))\n"
        },
        {
            "cell_type": "code",
            "execution_count": 7,
            "metadata": {},
            "outputs": [
                {
                    "name": "stdout",
                    "output_type": "stream",
                    "text": "The geograpical coordinate of Central, San Francisco, California are 37.790465049999995, -122.40504277897986.\n"
                }
            ],
            "source": "#geo locator for Central, San Francisco, California\ncentral_address = 'Central, San Francisco, California'\n\ngeolocator = Nominatim(user_agent=\"central_explorer\")\nlocation = geolocator.geocode(central_address)\ncentral_latitude = location.latitude\ncentral_longitude = location.longitude\nprint('The geograpical coordinate of Central, San Francisco, California are {}, {}.'.format(central_latitude, central_longitude))"
        },
        {
            "cell_type": "code",
            "execution_count": 8,
            "metadata": {},
            "outputs": [
                {
                    "name": "stdout",
                    "output_type": "stream",
                    "text": "The geograpical coordinate of Ingleside, San Francisco, California are 37.7229872, -122.4530272.\n"
                }
            ],
            "source": "#geo locator for Ingleside, San Francisco, California\ningleside_address = 'Ingleside, San Francisco, California'\n\ngeolocator = Nominatim(user_agent=\"ingleside_explorer\")\nlocation = geolocator.geocode(ingleside_address)\ningleside_latitude = location.latitude\ningleside_longitude = location.longitude\nprint('The geograpical coordinate of Ingleside, San Francisco, California are {}, {}.'.format(ingleside_latitude, ingleside_longitude))\n"
        },
        {
            "cell_type": "code",
            "execution_count": 9,
            "metadata": {},
            "outputs": [
                {
                    "name": "stdout",
                    "output_type": "stream",
                    "text": "The geograpical coordinate of Mission, San Francisco, California are 37.7524984, -122.4128258.\n"
                }
            ],
            "source": "#geo locator for Mission, San Francisco, California\nmission_address = 'Mission, San Francisco, California'\n\ngeolocator = Nominatim(user_agent=\"mission_explorer\")\nlocation = geolocator.geocode(mission_address)\nmission_latitude = location.latitude\nmission_longitude = location.longitude\nprint('The geograpical coordinate of Mission, San Francisco, California are {}, {}.'.format(mission_latitude, mission_longitude))"
        },
        {
            "cell_type": "code",
            "execution_count": 10,
            "metadata": {},
            "outputs": [
                {
                    "name": "stdout",
                    "output_type": "stream",
                    "text": "The geograpical coordinate of Mission, San Francisco, California are 37.7524984, -122.4128258.\n"
                }
            ],
            "source": "#geo locator for Mission, San Francisco, California\nmission_address = 'Mission, San Francisco, California'\n\ngeolocator = Nominatim(user_agent=\"mission_explorer\")\nlocation = geolocator.geocode(mission_address)\nmission_latitude = location.latitude\nmission_longitude = location.longitude\nprint('The geograpical coordinate of Mission, San Francisco, California are {}, {}.'.format(mission_latitude, mission_longitude))"
        },
        {
            "cell_type": "code",
            "execution_count": 11,
            "metadata": {},
            "outputs": [
                {
                    "name": "stdout",
                    "output_type": "stream",
                    "text": "The geograpical coordinate of Northern, San Francisco, California are 37.8011749, -122.4090021.\n"
                }
            ],
            "source": "#geo locator for Northern, San Francisco, California\nnorthern_address = 'North Beach, San Francisco, California'\n\ngeolocator = Nominatim(user_agent=\"northern_explorer\")\nlocation = geolocator.geocode(northern_address)\nnorthern_latitude = location.latitude\nnorthern_longitude = location.longitude\nprint('The geograpical coordinate of Northern, San Francisco, California are {}, {}.'.format(northern_latitude, northern_longitude))"
        },
        {
            "cell_type": "code",
            "execution_count": 12,
            "metadata": {},
            "outputs": [
                {
                    "name": "stdout",
                    "output_type": "stream",
                    "text": "The geograpical coordinate of Park, San Francisco, California are 37.734281, -122.4344696.\n"
                }
            ],
            "source": "#geo locator for Park, San Francisco, California\npark_address = 'Glen Park, San Francisco, California'\n\ngeolocator = Nominatim(user_agent=\"park_explorer\")\nlocation = geolocator.geocode(park_address)\npark_latitude = location.latitude\npark_longitude = location.longitude\nprint('The geograpical coordinate of Park, San Francisco, California are {}, {}.'.format(park_latitude, park_longitude))"
        },
        {
            "cell_type": "code",
            "execution_count": 14,
            "metadata": {},
            "outputs": [
                {
                    "name": "stdout",
                    "output_type": "stream",
                    "text": "The geograpical coordinate of Richmond, San Francisco, California are 37.7770459, -122.4654532.\n"
                }
            ],
            "source": "#geo locator for Richmond, San Francisco, California\nrichmond_address = 'Richmond, San Francisco, California'\n\ngeolocator = Nominatim(user_agent=\"richmond_explorer\")\nlocation = geolocator.geocode(richmond_address)\nrichmond_latitude = location.latitude\nrichmond_longitude = location.longitude\nprint('The geograpical coordinate of Richmond, San Francisco, California are {}, {}.'.format(richmond_latitude, richmond_longitude))"
        },
        {
            "cell_type": "code",
            "execution_count": 15,
            "metadata": {},
            "outputs": [
                {
                    "name": "stdout",
                    "output_type": "stream",
                    "text": "The geograpical coordinate of Southern, San Francisco, California are 37.7808925, -122.4009518.\n"
                }
            ],
            "source": "#geo locator for Southern, San Francisco, California\nsouthern_address = 'South of Market, San Francisco, California'\n\ngeolocator = Nominatim(user_agent=\"southern_explorer\")\nlocation = geolocator.geocode(southern_address)\nsouthern_latitude = location.latitude\nsouthern_longitude = location.longitude\nprint('The geograpical coordinate of Southern, San Francisco, California are {}, {}.'.format(southern_latitude, southern_longitude))"
        },
        {
            "cell_type": "code",
            "execution_count": 16,
            "metadata": {},
            "outputs": [
                {
                    "name": "stdout",
                    "output_type": "stream",
                    "text": "The geograpical coordinate of Taraval, San Francisco, California are 37.7433353, -122.4693349.\n"
                }
            ],
            "source": "#geo locator for Taraval, San Francisco, California\ntaraval_address = 'Taraval, San Francisco, California'\n\ngeolocator = Nominatim(user_agent=\"taraval_explorer\")\nlocation = geolocator.geocode(taraval_address)\ntaraval_latitude = location.latitude\ntaraval_longitude = location.longitude\nprint('The geograpical coordinate of Taraval, San Francisco, California are {}, {}.'.format(taraval_latitude, taraval_longitude))"
        },
        {
            "cell_type": "code",
            "execution_count": 17,
            "metadata": {},
            "outputs": [
                {
                    "name": "stdout",
                    "output_type": "stream",
                    "text": "The geograpical coordinate of Tenderloin, San Francisco, California are 37.7842493, -122.4139933.\n"
                }
            ],
            "source": "#geo locator for Tenderloin, San Francisco, California\ntenderloin_address = 'Tenderloin, San Francisco, California'\n\ngeolocator = Nominatim(user_agent=\"tenderloin_explorer\")\nlocation = geolocator.geocode(tenderloin_address)\ntenderloin_latitude = location.latitude\ntenderloin_longitude = location.longitude\nprint('The geograpical coordinate of Tenderloin, San Francisco, California are {}, {}.'.format(tenderloin_latitude, tenderloin_longitude))"
        },
        {
            "cell_type": "markdown",
            "metadata": {},
            "source": "### Here we read the latitude and longitude of each district to pull venues"
        },
        {
            "cell_type": "code",
            "execution_count": 18,
            "metadata": {},
            "outputs": [
                {
                    "data": {
                        "text/html": "<div>\n<style scoped>\n    .dataframe tbody tr th:only-of-type {\n        vertical-align: middle;\n    }\n\n    .dataframe tbody tr th {\n        vertical-align: top;\n    }\n\n    .dataframe thead th {\n        text-align: right;\n    }\n</style>\n<table border=\"1\" class=\"dataframe\">\n  <thead>\n    <tr style=\"text-align: right;\">\n      <th></th>\n      <th>PdDistrict</th>\n      <th>Total Theft</th>\n      <th>Latitude</th>\n      <th>Longitude</th>\n    </tr>\n  </thead>\n  <tbody>\n    <tr>\n      <th>0</th>\n      <td>BAYVIEW</td>\n      <td>3192</td>\n      <td>37.728889</td>\n      <td>-122.392500</td>\n    </tr>\n    <tr>\n      <th>1</th>\n      <td>CENTRAL</td>\n      <td>7780</td>\n      <td>37.790465</td>\n      <td>-122.405043</td>\n    </tr>\n    <tr>\n      <th>2</th>\n      <td>INGLESIDE</td>\n      <td>2628</td>\n      <td>37.722987</td>\n      <td>-122.453027</td>\n    </tr>\n    <tr>\n      <th>3</th>\n      <td>MISSION</td>\n      <td>4661</td>\n      <td>37.752498</td>\n      <td>-122.412826</td>\n    </tr>\n    <tr>\n      <th>4</th>\n      <td>NORTHERN</td>\n      <td>8410</td>\n      <td>37.801175</td>\n      <td>-122.409002</td>\n    </tr>\n    <tr>\n      <th>5</th>\n      <td>PARK</td>\n      <td>2758</td>\n      <td>37.734281</td>\n      <td>-122.434470</td>\n    </tr>\n    <tr>\n      <th>6</th>\n      <td>RICHMOND</td>\n      <td>3629</td>\n      <td>37.777046</td>\n      <td>-122.465453</td>\n    </tr>\n    <tr>\n      <th>7</th>\n      <td>SOUTHERN</td>\n      <td>10633</td>\n      <td>37.780893</td>\n      <td>-122.400952</td>\n    </tr>\n    <tr>\n      <th>8</th>\n      <td>TARAVAL</td>\n      <td>3480</td>\n      <td>37.743335</td>\n      <td>-122.469335</td>\n    </tr>\n    <tr>\n      <th>9</th>\n      <td>TENDERLOIN</td>\n      <td>2338</td>\n      <td>37.784249</td>\n      <td>-122.413993</td>\n    </tr>\n  </tbody>\n</table>\n</div>",
                        "text/plain": "   PdDistrict  Total Theft   Latitude   Longitude\n0     BAYVIEW         3192  37.728889 -122.392500\n1     CENTRAL         7780  37.790465 -122.405043\n2   INGLESIDE         2628  37.722987 -122.453027\n3     MISSION         4661  37.752498 -122.412826\n4    NORTHERN         8410  37.801175 -122.409002\n5        PARK         2758  37.734281 -122.434470\n6    RICHMOND         3629  37.777046 -122.465453\n7    SOUTHERN        10633  37.780893 -122.400952\n8     TARAVAL         3480  37.743335 -122.469335\n9  TENDERLOIN         2338  37.784249 -122.413993"
                    },
                    "execution_count": 18,
                    "metadata": {},
                    "output_type": "execute_result"
                }
            ],
            "source": "#add latitude and longitude to the specified Pd Districts (corrected)\ndf_district_theft.insert(2,\"Latitude\",[bayview_latitude, central_latitude, ingleside_latitude, mission_latitude, northern_latitude, park_latitude, richmond_latitude, southern_latitude, taraval_latitude, tenderloin_latitude], True)\ndf_district_theft.insert(3,\"Longitude\",[bayview_longitude, central_longitude, ingleside_longitude, mission_longitude, northern_longitude, park_longitude, richmond_longitude, southern_longitude, taraval_longitude, tenderloin_longitude], True)\n\ndf_district_theft\n"
        },
        {
            "cell_type": "markdown",
            "metadata": {},
            "source": "### Create Map of SF PD Districts Covered"
        },
        {
            "cell_type": "markdown",
            "metadata": {},
            "source": "### *Note: due to limitations on publishing to the GitHub repository, we maps may not render correctly below. However, please review the accompanying Powerpoint presentation to view the map returned returned or feel free to run the code below yourself"
        },
        {
            "cell_type": "code",
            "execution_count": 30,
            "metadata": {},
            "outputs": [],
            "source": "# San Francisco latitude and longitude values\nsf_latitude = 37.77\nsf_longitude = -122.42\n\n# create map of SF using latitude and longitude values\nmap_sf = folium.Map(location=[sf_latitude, sf_longitude], zoom_start=12)"
        },
        {
            "cell_type": "code",
            "execution_count": 31,
            "metadata": {},
            "outputs": [
                {
                    "data": {
                        "text/html": "<div style=\"width:100%;\"><div style=\"position:relative;width:100%;height:0;padding-bottom:60%;\"><span style=\"color:#565656\">Make this Notebook Trusted to load map: File -> Trust Notebook</span><iframe src=\"about:blank\" style=\"position:absolute;width:100%;height:100%;left:0;top:0;border:none !important;\" data-html=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 onload=\"this.contentDocument.open();this.contentDocument.write(atob(this.getAttribute('data-html')));this.contentDocument.close();\" allowfullscreen webkitallowfullscreen mozallowfullscreen></iframe></div></div>",
                        "text/plain": "<folium.folium.Map at 0x7f5f77747198>"
                    },
                    "execution_count": 31,
                    "metadata": {},
                    "output_type": "execute_result"
                }
            ],
            "source": "# add markers to map\nfor lat, lng, label in zip(df_district_theft['Latitude'], df_district_theft['Longitude'], df_district_theft['PdDistrict']):\n    label = folium.Popup(label, parse_html=True)\n    folium.CircleMarker(\n        [lat, lng],\n        radius=5,\n        popup=label,\n        color='blue',\n        fill=True,\n        fill_color='#3186cc',\n        fill_opacity=0.7,\n        parse_html=False).add_to(map_sf)  \n    \nmap_sf\n"
        },
        {
            "cell_type": "markdown",
            "metadata": {},
            "source": "### Here we generate the code to find venues of each district"
        },
        {
            "cell_type": "code",
            "execution_count": 20,
            "metadata": {},
            "outputs": [],
            "source": "#function for getting nearby venues \ndef getNearbyVenues(names, latitudes, longitudes, radius=2500):\n    \n    venues_list=[]\n    for name, lat, lng in zip(names, latitudes, longitudes):\n        print(name)\n            \n        # create the API request URL\n        url = 'https://api.foursquare.com/v2/venues/explore?&client_id={}&client_secret={}&v={}&ll={},{}&radius={}&limit={}'.format(\n            CLIENT_ID, \n            CLIENT_SECRET, \n            VERSION, \n            lat, \n            lng, \n            radius, \n            50)\n            \n        # make the GET request\n        results = requests.get(url).json()[\"response\"]['groups'][0]['items']\n        \n        # return only relevant information for each nearby venue\n        venues_list.append([(\n            name, \n            lat, \n            lng, \n            v['venue']['name'], \n            v['venue']['location']['lat'], \n            v['venue']['location']['lng'],  \n            v['venue']['categories'][0]['name']) for v in results])\n\n    nearby_venues = pd.DataFrame([item for venue_list in venues_list for item in venue_list])\n    nearby_venues.columns = ['Neighborhood', \n                  'Neighborhood Latitude', \n                  'Neighborhood Longitude', \n                  'Venue', \n                  'Venue Latitude', \n                  'Venue Longitude', \n                  'Venue Category']\n    \n    return(nearby_venues)\n"
        },
        {
            "cell_type": "code",
            "execution_count": 21,
            "metadata": {},
            "outputs": [
                {
                    "name": "stdout",
                    "output_type": "stream",
                    "text": "BAYVIEW\nCENTRAL\nINGLESIDE\nMISSION\nNORTHERN\nPARK\nRICHMOND\nSOUTHERN\nTARAVAL\nTENDERLOIN\n"
                }
            ],
            "source": "#get SF venues\nsf_venues = getNearbyVenues(names=df_district_theft['PdDistrict'],\n                                   latitudes=df_district_theft['Latitude'],\n                                   longitudes=df_district_theft['Longitude']\n                                  )\n"
        },
        {
            "cell_type": "code",
            "execution_count": 22,
            "metadata": {
                "scrolled": true
            },
            "outputs": [
                {
                    "name": "stdout",
                    "output_type": "stream",
                    "text": "(500, 7)\n"
                },
                {
                    "data": {
                        "text/html": "<div>\n<style scoped>\n    .dataframe tbody tr th:only-of-type {\n        vertical-align: middle;\n    }\n\n    .dataframe tbody tr th {\n        vertical-align: top;\n    }\n\n    .dataframe thead th {\n        text-align: right;\n    }\n</style>\n<table border=\"1\" class=\"dataframe\">\n  <thead>\n    <tr style=\"text-align: right;\">\n      <th></th>\n      <th>Neighborhood</th>\n      <th>Neighborhood Latitude</th>\n      <th>Neighborhood Longitude</th>\n      <th>Venue</th>\n      <th>Venue Latitude</th>\n      <th>Venue Longitude</th>\n      <th>Venue Category</th>\n    </tr>\n  </thead>\n  <tbody>\n    <tr>\n      <th>0</th>\n      <td>BAYVIEW</td>\n      <td>37.728889</td>\n      <td>-122.3925</td>\n      <td>Curio Parlor</td>\n      <td>37.728156</td>\n      <td>-122.394723</td>\n      <td>Piercing Parlor</td>\n    </tr>\n    <tr>\n      <th>1</th>\n      <td>BAYVIEW</td>\n      <td>37.728889</td>\n      <td>-122.3925</td>\n      <td>Craftsman and Wolves Den</td>\n      <td>37.726908</td>\n      <td>-122.391536</td>\n      <td>Bakery</td>\n    </tr>\n    <tr>\n      <th>2</th>\n      <td>BAYVIEW</td>\n      <td>37.728889</td>\n      <td>-122.3925</td>\n      <td>Three Babes Bakeshop</td>\n      <td>37.729730</td>\n      <td>-122.400160</td>\n      <td>Dessert Shop</td>\n    </tr>\n    <tr>\n      <th>3</th>\n      <td>BAYVIEW</td>\n      <td>37.728889</td>\n      <td>-122.3925</td>\n      <td>Zaccho Dance Theatre</td>\n      <td>37.728223</td>\n      <td>-122.394916</td>\n      <td>Dance Studio</td>\n    </tr>\n    <tr>\n      <th>4</th>\n      <td>BAYVIEW</td>\n      <td>37.728889</td>\n      <td>-122.3925</td>\n      <td>Radio Africa &amp; Kitchen</td>\n      <td>37.734826</td>\n      <td>-122.390764</td>\n      <td>African Restaurant</td>\n    </tr>\n  </tbody>\n</table>\n</div>",
                        "text/plain": "  Neighborhood  Neighborhood Latitude  Neighborhood Longitude  \\\n0      BAYVIEW              37.728889               -122.3925   \n1      BAYVIEW              37.728889               -122.3925   \n2      BAYVIEW              37.728889               -122.3925   \n3      BAYVIEW              37.728889               -122.3925   \n4      BAYVIEW              37.728889               -122.3925   \n\n                      Venue  Venue Latitude  Venue Longitude  \\\n0              Curio Parlor       37.728156      -122.394723   \n1  Craftsman and Wolves Den       37.726908      -122.391536   \n2      Three Babes Bakeshop       37.729730      -122.400160   \n3      Zaccho Dance Theatre       37.728223      -122.394916   \n4    Radio Africa & Kitchen       37.734826      -122.390764   \n\n       Venue Category  \n0     Piercing Parlor  \n1              Bakery  \n2        Dessert Shop  \n3        Dance Studio  \n4  African Restaurant  "
                    },
                    "execution_count": 22,
                    "metadata": {},
                    "output_type": "execute_result"
                }
            ],
            "source": "print(sf_venues.shape)\nsf_venues.head()"
        },
        {
            "cell_type": "markdown",
            "metadata": {},
            "source": "### Here we filter on relevant restaurants only "
        },
        {
            "cell_type": "code",
            "execution_count": 23,
            "metadata": {},
            "outputs": [
                {
                    "name": "stdout",
                    "output_type": "stream",
                    "text": "(111, 2)\n"
                },
                {
                    "data": {
                        "text/html": "<div>\n<style scoped>\n    .dataframe tbody tr th:only-of-type {\n        vertical-align: middle;\n    }\n\n    .dataframe tbody tr th {\n        vertical-align: top;\n    }\n\n    .dataframe thead th {\n        text-align: right;\n    }\n</style>\n<table border=\"1\" class=\"dataframe\">\n  <thead>\n    <tr style=\"text-align: right;\">\n      <th></th>\n      <th>Neighborhood</th>\n      <th>Venue Category</th>\n    </tr>\n  </thead>\n  <tbody>\n    <tr>\n      <th>0</th>\n      <td>BAYVIEW</td>\n      <td>African Restaurant</td>\n    </tr>\n    <tr>\n      <th>1</th>\n      <td>BAYVIEW</td>\n      <td>Mexican Restaurant</td>\n    </tr>\n    <tr>\n      <th>2</th>\n      <td>BAYVIEW</td>\n      <td>Latin American Restaurant</td>\n    </tr>\n    <tr>\n      <th>3</th>\n      <td>BAYVIEW</td>\n      <td>Southern / Soul Food Restaurant</td>\n    </tr>\n    <tr>\n      <th>4</th>\n      <td>BAYVIEW</td>\n      <td>Vietnamese Restaurant</td>\n    </tr>\n  </tbody>\n</table>\n</div>",
                        "text/plain": "  Neighborhood                   Venue Category\n0      BAYVIEW               African Restaurant\n1      BAYVIEW               Mexican Restaurant\n2      BAYVIEW        Latin American Restaurant\n3      BAYVIEW  Southern / Soul Food Restaurant\n4      BAYVIEW            Vietnamese Restaurant"
                    },
                    "execution_count": 23,
                    "metadata": {},
                    "output_type": "execute_result"
                }
            ],
            "source": "sf_restaurants = sf_venues[sf_venues['Venue Category'].str.contains('taurant')]\nsf_restaurants = sf_restaurants.reset_index()\n\n\nsf_restaurants.drop(['Neighborhood Latitude', 'Neighborhood Longitude', 'Venue Latitude', 'Venue Longitude', 'Venue', 'index'], axis=1, inplace=True)\n\nprint(sf_restaurants.shape)\n\nsf_restaurants.head()"
        },
        {
            "cell_type": "code",
            "execution_count": 24,
            "metadata": {
                "scrolled": true
            },
            "outputs": [
                {
                    "data": {
                        "text/html": "<div>\n<style scoped>\n    .dataframe tbody tr th:only-of-type {\n        vertical-align: middle;\n    }\n\n    .dataframe tbody tr th {\n        vertical-align: top;\n    }\n\n    .dataframe thead th {\n        text-align: right;\n    }\n</style>\n<table border=\"1\" class=\"dataframe\">\n  <thead>\n    <tr style=\"text-align: right;\">\n      <th></th>\n      <th>Venue Category</th>\n    </tr>\n    <tr>\n      <th>Neighborhood</th>\n      <th></th>\n    </tr>\n  </thead>\n  <tbody>\n    <tr>\n      <th>BAYVIEW</th>\n      <td>12</td>\n    </tr>\n    <tr>\n      <th>CENTRAL</th>\n      <td>11</td>\n    </tr>\n    <tr>\n      <th>INGLESIDE</th>\n      <td>13</td>\n    </tr>\n    <tr>\n      <th>MISSION</th>\n      <td>18</td>\n    </tr>\n    <tr>\n      <th>NORTHERN</th>\n      <td>8</td>\n    </tr>\n    <tr>\n      <th>PARK</th>\n      <td>10</td>\n    </tr>\n    <tr>\n      <th>RICHMOND</th>\n      <td>13</td>\n    </tr>\n    <tr>\n      <th>SOUTHERN</th>\n      <td>7</td>\n    </tr>\n    <tr>\n      <th>TARAVAL</th>\n      <td>15</td>\n    </tr>\n    <tr>\n      <th>TENDERLOIN</th>\n      <td>4</td>\n    </tr>\n  </tbody>\n</table>\n</div>",
                        "text/plain": "              Venue Category\nNeighborhood                \nBAYVIEW                   12\nCENTRAL                   11\nINGLESIDE                 13\nMISSION                   18\nNORTHERN                   8\nPARK                      10\nRICHMOND                  13\nSOUTHERN                   7\nTARAVAL                   15\nTENDERLOIN                 4"
                    },
                    "execution_count": 24,
                    "metadata": {},
                    "output_type": "execute_result"
                }
            ],
            "source": "#restaurants by district\n\nsf_district_restaurants = sf_restaurants.groupby('Neighborhood').count()\n\nsf_district_restaurants\n"
        },
        {
            "cell_type": "code",
            "execution_count": 25,
            "metadata": {},
            "outputs": [
                {
                    "data": {
                        "text/html": "<div>\n<style scoped>\n    .dataframe tbody tr th:only-of-type {\n        vertical-align: middle;\n    }\n\n    .dataframe tbody tr th {\n        vertical-align: top;\n    }\n\n    .dataframe thead th {\n        text-align: right;\n    }\n</style>\n<table border=\"1\" class=\"dataframe\">\n  <thead>\n    <tr style=\"text-align: right;\">\n      <th></th>\n      <th>Restaurant Venues</th>\n    </tr>\n    <tr>\n      <th>Neighborhood</th>\n      <th></th>\n    </tr>\n  </thead>\n  <tbody>\n    <tr>\n      <th>TENDERLOIN</th>\n      <td>4</td>\n    </tr>\n    <tr>\n      <th>SOUTHERN</th>\n      <td>7</td>\n    </tr>\n    <tr>\n      <th>NORTHERN</th>\n      <td>8</td>\n    </tr>\n    <tr>\n      <th>PARK</th>\n      <td>10</td>\n    </tr>\n    <tr>\n      <th>CENTRAL</th>\n      <td>11</td>\n    </tr>\n    <tr>\n      <th>BAYVIEW</th>\n      <td>12</td>\n    </tr>\n    <tr>\n      <th>INGLESIDE</th>\n      <td>13</td>\n    </tr>\n    <tr>\n      <th>RICHMOND</th>\n      <td>13</td>\n    </tr>\n    <tr>\n      <th>TARAVAL</th>\n      <td>15</td>\n    </tr>\n    <tr>\n      <th>MISSION</th>\n      <td>18</td>\n    </tr>\n  </tbody>\n</table>\n</div>",
                        "text/plain": "              Restaurant Venues\nNeighborhood                   \nTENDERLOIN                    4\nSOUTHERN                      7\nNORTHERN                      8\nPARK                         10\nCENTRAL                      11\nBAYVIEW                      12\nINGLESIDE                    13\nRICHMOND                     13\nTARAVAL                      15\nMISSION                      18"
                    },
                    "execution_count": 25,
                    "metadata": {},
                    "output_type": "execute_result"
                }
            ],
            "source": "sf_district_restaurants.columns = ['Restaurant Venues']\nsf_district_restaurants.sort_values('Restaurant Venues')"
        },
        {
            "cell_type": "code",
            "execution_count": 26,
            "metadata": {},
            "outputs": [
                {
                    "data": {
                        "text/html": "<div>\n<style scoped>\n    .dataframe tbody tr th:only-of-type {\n        vertical-align: middle;\n    }\n\n    .dataframe tbody tr th {\n        vertical-align: top;\n    }\n\n    .dataframe thead th {\n        text-align: right;\n    }\n</style>\n<table border=\"1\" class=\"dataframe\">\n  <thead>\n    <tr style=\"text-align: right;\">\n      <th></th>\n      <th>PdDistrict</th>\n      <th>Total Theft</th>\n      <th>Latitude</th>\n      <th>Longitude</th>\n    </tr>\n  </thead>\n  <tbody>\n    <tr>\n      <th>9</th>\n      <td>TENDERLOIN</td>\n      <td>2338</td>\n      <td>37.784249</td>\n      <td>-122.413993</td>\n    </tr>\n    <tr>\n      <th>2</th>\n      <td>INGLESIDE</td>\n      <td>2628</td>\n      <td>37.722987</td>\n      <td>-122.453027</td>\n    </tr>\n    <tr>\n      <th>5</th>\n      <td>PARK</td>\n      <td>2758</td>\n      <td>37.734281</td>\n      <td>-122.434470</td>\n    </tr>\n    <tr>\n      <th>0</th>\n      <td>BAYVIEW</td>\n      <td>3192</td>\n      <td>37.728889</td>\n      <td>-122.392500</td>\n    </tr>\n    <tr>\n      <th>8</th>\n      <td>TARAVAL</td>\n      <td>3480</td>\n      <td>37.743335</td>\n      <td>-122.469335</td>\n    </tr>\n    <tr>\n      <th>6</th>\n      <td>RICHMOND</td>\n      <td>3629</td>\n      <td>37.777046</td>\n      <td>-122.465453</td>\n    </tr>\n    <tr>\n      <th>3</th>\n      <td>MISSION</td>\n      <td>4661</td>\n      <td>37.752498</td>\n      <td>-122.412826</td>\n    </tr>\n    <tr>\n      <th>1</th>\n      <td>CENTRAL</td>\n      <td>7780</td>\n      <td>37.790465</td>\n      <td>-122.405043</td>\n    </tr>\n    <tr>\n      <th>4</th>\n      <td>NORTHERN</td>\n      <td>8410</td>\n      <td>37.801175</td>\n      <td>-122.409002</td>\n    </tr>\n    <tr>\n      <th>7</th>\n      <td>SOUTHERN</td>\n      <td>10633</td>\n      <td>37.780893</td>\n      <td>-122.400952</td>\n    </tr>\n  </tbody>\n</table>\n</div>",
                        "text/plain": "   PdDistrict  Total Theft   Latitude   Longitude\n9  TENDERLOIN         2338  37.784249 -122.413993\n2   INGLESIDE         2628  37.722987 -122.453027\n5        PARK         2758  37.734281 -122.434470\n0     BAYVIEW         3192  37.728889 -122.392500\n8     TARAVAL         3480  37.743335 -122.469335\n6    RICHMOND         3629  37.777046 -122.465453\n3     MISSION         4661  37.752498 -122.412826\n1     CENTRAL         7780  37.790465 -122.405043\n4    NORTHERN         8410  37.801175 -122.409002\n7    SOUTHERN        10633  37.780893 -122.400952"
                    },
                    "execution_count": 26,
                    "metadata": {},
                    "output_type": "execute_result"
                }
            ],
            "source": "df_district_theft.sort_values('Total Theft')"
        },
        {
            "cell_type": "code",
            "execution_count": 27,
            "metadata": {},
            "outputs": [
                {
                    "data": {
                        "text/html": "<div>\n<style scoped>\n    .dataframe tbody tr th:only-of-type {\n        vertical-align: middle;\n    }\n\n    .dataframe tbody tr th {\n        vertical-align: top;\n    }\n\n    .dataframe thead th {\n        text-align: right;\n    }\n</style>\n<table border=\"1\" class=\"dataframe\">\n  <thead>\n    <tr style=\"text-align: right;\">\n      <th></th>\n      <th>PdDistrict</th>\n      <th>Total Theft</th>\n      <th>Restaurant Venues</th>\n    </tr>\n  </thead>\n  <tbody>\n    <tr>\n      <th>0</th>\n      <td>BAYVIEW</td>\n      <td>3192</td>\n      <td>12</td>\n    </tr>\n    <tr>\n      <th>1</th>\n      <td>CENTRAL</td>\n      <td>7780</td>\n      <td>11</td>\n    </tr>\n    <tr>\n      <th>2</th>\n      <td>INGLESIDE</td>\n      <td>2628</td>\n      <td>13</td>\n    </tr>\n    <tr>\n      <th>3</th>\n      <td>MISSION</td>\n      <td>4661</td>\n      <td>18</td>\n    </tr>\n    <tr>\n      <th>4</th>\n      <td>NORTHERN</td>\n      <td>8410</td>\n      <td>8</td>\n    </tr>\n    <tr>\n      <th>5</th>\n      <td>PARK</td>\n      <td>2758</td>\n      <td>10</td>\n    </tr>\n    <tr>\n      <th>6</th>\n      <td>RICHMOND</td>\n      <td>3629</td>\n      <td>13</td>\n    </tr>\n    <tr>\n      <th>7</th>\n      <td>SOUTHERN</td>\n      <td>10633</td>\n      <td>7</td>\n    </tr>\n    <tr>\n      <th>8</th>\n      <td>TARAVAL</td>\n      <td>3480</td>\n      <td>15</td>\n    </tr>\n    <tr>\n      <th>9</th>\n      <td>TENDERLOIN</td>\n      <td>2338</td>\n      <td>4</td>\n    </tr>\n  </tbody>\n</table>\n</div>",
                        "text/plain": "   PdDistrict  Total Theft  Restaurant Venues\n0     BAYVIEW         3192                 12\n1     CENTRAL         7780                 11\n2   INGLESIDE         2628                 13\n3     MISSION         4661                 18\n4    NORTHERN         8410                  8\n5        PARK         2758                 10\n6    RICHMOND         3629                 13\n7    SOUTHERN        10633                  7\n8     TARAVAL         3480                 15\n9  TENDERLOIN         2338                  4"
                    },
                    "execution_count": 27,
                    "metadata": {},
                    "output_type": "execute_result"
                }
            ],
            "source": "df_summary = df_district_theft.merge(sf_district_restaurants, left_on='PdDistrict', right_on='Neighborhood')\ndf_summary.drop(['Latitude', 'Longitude'], axis=1, inplace=True)\ndf_summary"
        },
        {
            "cell_type": "markdown",
            "metadata": {},
            "source": "### Combine views of theft and restaurant views"
        },
        {
            "cell_type": "code",
            "execution_count": 28,
            "metadata": {},
            "outputs": [
                {
                    "name": "stdout",
                    "output_type": "stream",
                    "text": "   PdDistrict  Total Theft  Restaurant Venues\n9  TENDERLOIN         2338                  4\n2   INGLESIDE         2628                 13\n5        PARK         2758                 10\n0     BAYVIEW         3192                 12\n8     TARAVAL         3480                 15\n6    RICHMOND         3629                 13\n3     MISSION         4661                 18\n1     CENTRAL         7780                 11\n4    NORTHERN         8410                  8\n7    SOUTHERN        10633                  7\n"
                }
            ],
            "source": "print(df_summary.sort_values('Total Theft'))"
        },
        {
            "cell_type": "markdown",
            "metadata": {},
            "source": "### Here we generate map of all theft incidents only"
        },
        {
            "cell_type": "markdown",
            "metadata": {},
            "source": "### *Note: due to limitations on publishing to the GitHub repository, we are unable to display maps here. However, please review the accompanying Powerpoint presentation to view a map of venues returned or feel free to run the code below yourself"
        },
        {
            "cell_type": "code",
            "execution_count": 32,
            "metadata": {},
            "outputs": [],
            "source": "# let's start again with a clean copy of the map of San Francisco\n#sf_map = folium.Map(location = [sf_latitude, sf_longitude], zoom_start = 12)\n\n# instantiate a mark cluster object for the incidents in the dataframe\n#sf_theft_incidents = plugins.MarkerCluster().add_to(sf_map)\n\n# loop through the dataframe and add each data point to the mark cluster\n#for lat, lng, label, in zip(df_stealing.Y, df_stealing.X, df_stealing.Category):\n#    folium.Marker(\n#        location=[lat, lng],\n#        icon=None,\n#        popup=label,\n#    ).add_to(sf_theft_incidents)"
        },
        {
            "cell_type": "code",
            "execution_count": null,
            "metadata": {
                "scrolled": true
            },
            "outputs": [],
            "source": "#sf_map"
        },
        {
            "cell_type": "markdown",
            "metadata": {},
            "source": "## Results and Discussion<a name=\"resultsanddiscussion\"></a>"
        },
        {
            "cell_type": "code",
            "execution_count": 29,
            "metadata": {},
            "outputs": [
                {
                    "name": "stdout",
                    "output_type": "stream",
                    "text": "   PdDistrict  Total Theft  Restaurant Venues\n9  TENDERLOIN         2338                  4\n2   INGLESIDE         2628                 13\n5        PARK         2758                 10\n0     BAYVIEW         3192                 12\n8     TARAVAL         3480                 15\n6    RICHMOND         3629                 13\n3     MISSION         4661                 18\n1     CENTRAL         7780                 11\n4    NORTHERN         8410                  8\n7    SOUTHERN        10633                  7\n"
                }
            ],
            "source": "print(df_summary.sort_values('Total Theft'))"
        },
        {
            "cell_type": "markdown",
            "metadata": {},
            "source": "### Based on the theft and total restaurant venues returned by Foursquare API, we find a clear potential candidate location for our client to open a sushi restaurant:\n* The **Tenderloin** district appears to exhibit the attributes of comparative minimized theft incidents and fewest restaurant venues compared with other districts in San Francisco\n* Additional districts the client may wish to consider include the **Ingleside** and **Park** districts which seem to have the second and third lowest theft incidents, respectively\n* While the **Southern** and **Northern** districts appears to have the second and third number of restaurant venues in the city, they have nearly four or five times as many theft incidents compared with the lowest ranking district\n* Only two factors were considered in this project's scope, namely **theft incidents** and **restaurant venues** which may present limitations to the results of the data. For example for theft incidents, while the Tenderloin may have the lowest theft rates, other crime types, homelessness, or other socioeconomic data may be found to be higher than other districts to the dismay of the client. As a result, additional iterations of data analysis are recommended to finetune the requirements of the client to better serve their business needs \n* Similarly for restaurant venues, the data only filtered on restaurant types. Other venues, such as bake shops or bars may have an impact on customer needs as well as adjusting parameters on the Foursquare API."
        },
        {
            "cell_type": "markdown",
            "metadata": {},
            "source": "## Conclusion<a name=\"conclusion\"></a>"
        },
        {
            "cell_type": "markdown",
            "metadata": {},
            "source": "Based on the findings of this analysis, we can conclude the following top 3 locations to our client based on the **theft incidents** and **restaurant venues** criteria alone. We suggest running further iterations using other criteria, such as other crimes statistics or homelessness, to finetune the model for further details.\n* Tenderloin District\n* Ingleside District\n* Park District"
        },
        {
            "cell_type": "code",
            "execution_count": null,
            "metadata": {},
            "outputs": [],
            "source": ""
        }
    ],
    "metadata": {
        "kernelspec": {
            "display_name": "Python 3.6",
            "language": "python",
            "name": "python3"
        },
        "language_info": {
            "codemirror_mode": {
                "name": "ipython",
                "version": 3
            },
            "file_extension": ".py",
            "mimetype": "text/x-python",
            "name": "python",
            "nbconvert_exporter": "python",
            "pygments_lexer": "ipython3",
            "version": "3.6.9"
        }
    },
    "nbformat": 4,
    "nbformat_minor": 1
}