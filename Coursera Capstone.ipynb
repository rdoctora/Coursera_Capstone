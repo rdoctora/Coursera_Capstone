{
    "cells": [
        {
            "cell_type": "markdown",
            "metadata": {
                "collapsed": true
            },
            "source": "# Opening A New Sushi Chain in San Francisco, California, USA\n## The Battle of the Neighborhoods 1\n### Coursera Applied Data Science Capstone by IBM"
        },
        {
            "cell_type": "code",
            "execution_count": 21,
            "metadata": {},
            "outputs": [
                {
                    "name": "stdout",
                    "output_type": "stream",
                    "text": "Hello Capstone Project Course!\n"
                }
            ],
            "source": "print(\"Hello Capstone Project Course!\")"
        },
        {
            "cell_type": "markdown",
            "metadata": {},
            "source": "## Table of contents\n* [Business Problem Introduction](#businessproblemintroduction)\n* [Data Methodology](#datamethodology)"
        },
        {
            "cell_type": "markdown",
            "metadata": {},
            "source": "## Business Problem Introduction <a name=\"businessproblemintroduction\"></a>"
        },
        {
            "cell_type": "markdown",
            "metadata": {},
            "source": "In this project we will try to find a suitable location for a Japanese chain who will be opening a new brick and mortar restaurant in a new geographic market. The key stakeholder will be the Director of Operations who is interested in opening a *sushi restaurant* in *San Francisco, California, USA*. \n\nThe Director has specified two criteria: first, as San Francisco is an international destination with many eateries, the Director has specifically requested a location *not crowded with competitor cuisines*. Second, since the raw materials and ingredients for maintaining a restaurant of the chain's calibre are expensive, the Director would also prefer a city location *with low theft rates*. Since the chain maintains an active Loss Prevention program with specialized equipment, a location with low crime theft over the past 5 years is acceptable.\n\nWe will be analyzing locations in San Francisco as well as crime data to support the restaurant chain's initiative. We will then present pros and cons of areas selected and provide recommendations to the stakeholders."
        },
        {
            "cell_type": "markdown",
            "metadata": {},
            "source": "## Data Methodology <a name=\"datamethodology\"></a>"
        },
        {
            "cell_type": "markdown",
            "metadata": {},
            "source": "Based on the requirements defined in the problem, factors that will influence the stakeholder's decision are:\n* number of competitor restaurants in a location\n* crime data for a location\n\nFor the first criteria, we plan to use data from Foursquare to generate a list of eateries in San Francisco by location. For the second criteria, we will use the public San Francisco crimes data to investigate theft and robberies by location to present a proposal for site selection.\n\nWe decided to use key district parameters to define San Francisco locations since San Francisco is no larger than approximately 7 miles by 7 miles. Data sources initially planned for extraction and generation include:\n* number of eateries and their type by San Francisco location will be obtained using **Foursquare API**\n* theft locations of the city will be used and overlayed onto a San Franciso **Folium map** for analysis and analysis"
        },
        {
            "cell_type": "markdown",
            "metadata": {},
            "source": "## Analysis (coming soon) <a name=\"analysis\"></a>"
        },
        {
            "cell_type": "code",
            "execution_count": 18,
            "metadata": {},
            "outputs": [],
            "source": "#import requests\n#import urllib.request\n#import pandas as pd\n#import csv\n#from bs4 import BeautifulSoup\n#!conda install -c conda-forge folium=0.5.0 --yes \n#import folium # map rendering library\n#print('Libraries imported.')"
        },
        {
            "cell_type": "code",
            "execution_count": 19,
            "metadata": {},
            "outputs": [],
            "source": "#Foursquare info\n#CLIENT_ID = '1H41W44OYMI2XZ5Y13TAWB0YDLCMITZJSXCLELDNFRGLB23G' # your Foursquare ID\n#CLIENT_SECRET = 'TMYVWORZW4OEW1NCQUQWYNX2DKF2X2D340ILPIZLKCGO5DVF' # your Foursquare Secret\n#VERSION = '20180605' # Foursquare API version\n"
        },
        {
            "cell_type": "code",
            "execution_count": 20,
            "metadata": {},
            "outputs": [],
            "source": "#url='#########'\n#df=pd.read_html(url, header=0)[0]\n#df.head()"
        },
        {
            "cell_type": "markdown",
            "metadata": {},
            "source": "## Results and Discussion (coming soon) <a name=\"resultsdiscussion\"></a>"
        },
        {
            "cell_type": "markdown",
            "metadata": {},
            "source": "## Conclusion (coming soon) <a name=\"conclusion\"></a>"
        }
    ],
    "metadata": {
        "kernelspec": {
            "display_name": "Python 3.6",
            "language": "python",
            "name": "python3"
        },
        "language_info": {
            "codemirror_mode": {
                "name": "ipython",
                "version": 3
            },
            "file_extension": ".py",
            "mimetype": "text/x-python",
            "name": "python",
            "nbconvert_exporter": "python",
            "pygments_lexer": "ipython3",
            "version": "3.6.9"
        }
    },
    "nbformat": 4,
    "nbformat_minor": 1
}